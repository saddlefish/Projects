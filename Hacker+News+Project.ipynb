{
 "cells": [
  {
   "cell_type": "markdown",
   "metadata": {
    "collapsed": true
   },
   "source": [
    "## Analyzing Hacker News Postings \n",
    "#hacker news dataset project; Comparing two types of posts on Hacker News site, Ask HN or Show HN. \n",
    "I will be comparing these types of posts to see if whether (1) Ask HN or Show HN receive more comments on average? and (2) to see if posts during a certain time receive more comments? \n",
    "\n",
    "*dataset was cleaned to remove posts that did not receive any comments \n"
   ]
  },
  {
   "cell_type": "markdown",
   "metadata": {},
   "source": [
    "# Importing dataset "
   ]
  },
  {
   "cell_type": "code",
   "execution_count": 49,
   "metadata": {
    "collapsed": false,
    "scrolled": true
   },
   "outputs": [
    {
     "data": {
      "text/plain": [
       "[['id', 'title', 'url', 'num_points', 'num_comments', 'author', 'created_at'],\n",
       " ['12224879',\n",
       "  'Interactive Dynamic Video',\n",
       "  'http://www.interactivedynamicvideo.com/',\n",
       "  '386',\n",
       "  '52',\n",
       "  'ne0phyte',\n",
       "  '8/4/2016 11:52'],\n",
       " ['10975351',\n",
       "  'How to Use Open Source and Shut the Fuck Up at the Same Time',\n",
       "  'http://hueniverse.com/2016/01/26/how-to-use-open-source-and-shut-the-fuck-up-at-the-same-time/',\n",
       "  '39',\n",
       "  '10',\n",
       "  'josep2',\n",
       "  '1/26/2016 19:30'],\n",
       " ['11964716',\n",
       "  \"Florida DJs May Face Felony for April Fools' Water Joke\",\n",
       "  'http://www.thewire.com/entertainment/2013/04/florida-djs-april-fools-water-joke/63798/',\n",
       "  '2',\n",
       "  '1',\n",
       "  'vezycash',\n",
       "  '6/23/2016 22:20'],\n",
       " ['11919867',\n",
       "  'Technology ventures: From Idea to Enterprise',\n",
       "  'https://www.amazon.com/Technology-Ventures-Enterprise-Thomas-Byers/dp/0073523429',\n",
       "  '3',\n",
       "  '1',\n",
       "  'hswarna',\n",
       "  '6/17/2016 0:01']]"
      ]
     },
     "execution_count": 49,
     "metadata": {},
     "output_type": "execute_result"
    }
   ],
   "source": [
    "import pandas as pd \n",
    "import csv\n",
    "f = open('hacker_news.csv')\n",
    "hn = list(csv.reader(f))\n",
    "hn[:5]"
   ]
  },
  {
   "cell_type": "markdown",
   "metadata": {},
   "source": [
    "# Removing Headers"
   ]
  },
  {
   "cell_type": "code",
   "execution_count": 50,
   "metadata": {
    "collapsed": false
   },
   "outputs": [
    {
     "name": "stdout",
     "output_type": "stream",
     "text": [
      "['id', 'title', 'url', 'num_points', 'num_comments', 'author', 'created_at']\n"
     ]
    },
    {
     "data": {
      "text/plain": [
       "[['12224879',\n",
       "  'Interactive Dynamic Video',\n",
       "  'http://www.interactivedynamicvideo.com/',\n",
       "  '386',\n",
       "  '52',\n",
       "  'ne0phyte',\n",
       "  '8/4/2016 11:52'],\n",
       " ['10975351',\n",
       "  'How to Use Open Source and Shut the Fuck Up at the Same Time',\n",
       "  'http://hueniverse.com/2016/01/26/how-to-use-open-source-and-shut-the-fuck-up-at-the-same-time/',\n",
       "  '39',\n",
       "  '10',\n",
       "  'josep2',\n",
       "  '1/26/2016 19:30'],\n",
       " ['11964716',\n",
       "  \"Florida DJs May Face Felony for April Fools' Water Joke\",\n",
       "  'http://www.thewire.com/entertainment/2013/04/florida-djs-april-fools-water-joke/63798/',\n",
       "  '2',\n",
       "  '1',\n",
       "  'vezycash',\n",
       "  '6/23/2016 22:20'],\n",
       " ['11919867',\n",
       "  'Technology ventures: From Idea to Enterprise',\n",
       "  'https://www.amazon.com/Technology-Ventures-Enterprise-Thomas-Byers/dp/0073523429',\n",
       "  '3',\n",
       "  '1',\n",
       "  'hswarna',\n",
       "  '6/17/2016 0:01'],\n",
       " ['10301696',\n",
       "  'Note by Note: The Making of Steinway L1037 (2007)',\n",
       "  'http://www.nytimes.com/2007/11/07/movies/07stein.html?_r=0',\n",
       "  '8',\n",
       "  '2',\n",
       "  'walterbell',\n",
       "  '9/30/2015 4:12']]"
      ]
     },
     "execution_count": 50,
     "metadata": {},
     "output_type": "execute_result"
    }
   ],
   "source": [
    "#assigning headers to var headers\n",
    "headers = hn[0]\n",
    "#removing headers from list of lists \n",
    "hn = hn[1:]\n",
    "print(headers)\n",
    "hn[:5]"
   ]
  },
  {
   "cell_type": "markdown",
   "metadata": {},
   "source": [
    "# Parsing posts into Ask_Posts/Show_Posts/Other_Posts"
   ]
  },
  {
   "cell_type": "code",
   "execution_count": 51,
   "metadata": {
    "collapsed": false
   },
   "outputs": [
    {
     "name": "stdout",
     "output_type": "stream",
     "text": [
      "2\n",
      "1162\n",
      "18936\n"
     ]
    }
   ],
   "source": [
    "#creating empty list to store values given below criteria\n",
    "ask_posts = [] \n",
    "show_posts = []\n",
    "other_posts = []\n",
    "\n",
    "for row in hn:\n",
    "    #assigning title column index to var title\n",
    "    title = row[1]\n",
    "    #checks if the title is lowercase and starts with ___\n",
    "    if title.lower().startswith(\"ash hn\"):\n",
    "        ask_posts.append(row) \n",
    "    elif title.lower().startswith(\"show hn\"):\n",
    "        show_posts.append(row)\n",
    "    else:\n",
    "        other_posts.append(row)\n",
    "print(len(ask_posts))\n",
    "print(len(show_posts))\n",
    "print(len(other_posts))        "
   ]
  },
  {
   "cell_type": "code",
   "execution_count": 52,
   "metadata": {
    "collapsed": false,
    "scrolled": true
   },
   "outputs": [
    {
     "name": "stdout",
     "output_type": "stream",
     "text": [
      "3.0\n"
     ]
    }
   ],
   "source": [
    "total_ask_comments = 0 \n",
    "\n",
    "for row in ask_posts:\n",
    "    total_ask_comments += int(row[4])\n",
    "avg_ask_comments = total_ask_comments / len(ask_posts)\n",
    "print(avg_ask_comments)"
   ]
  },
  {
   "cell_type": "code",
   "execution_count": 53,
   "metadata": {
    "collapsed": false
   },
   "outputs": [
    {
     "name": "stdout",
     "output_type": "stream",
     "text": [
      "10.31669535283993\n"
     ]
    }
   ],
   "source": [
    "total_show_comments = 0 \n",
    "for row in show_posts:\n",
    "    total_show_comments += int(row[4])\n",
    "avg_show_comments = total_show_comments / len(show_posts)\n",
    "print(avg_show_comments)"
   ]
  },
  {
   "cell_type": "code",
   "execution_count": 54,
   "metadata": {
    "collapsed": false
   },
   "outputs": [
    {
     "data": {
      "text/plain": [
       "{'00': 487,\n",
       " '01': 246,\n",
       " '02': 127,\n",
       " '03': 287,\n",
       " '04': 247,\n",
       " '05': 58,\n",
       " '06': 142,\n",
       " '07': 299,\n",
       " '08': 165,\n",
       " '09': 291,\n",
       " '10': 297,\n",
       " '11': 491,\n",
       " '12': 720,\n",
       " '13': 946,\n",
       " '14': 1156,\n",
       " '15': 632,\n",
       " '16': 1084,\n",
       " '17': 911,\n",
       " '18': 962,\n",
       " '19': 539,\n",
       " '20': 612,\n",
       " '21': 272,\n",
       " '22': 570,\n",
       " '23': 447}"
      ]
     },
     "execution_count": 54,
     "metadata": {},
     "output_type": "execute_result"
    }
   ],
   "source": [
    "import datetime as dt \n",
    "result_list = []\n",
    "for post in show_posts:\n",
    "    result_list.append([post[6], int(post[4])])\n",
    "#creating empty dict for storing num comments per hr and \n",
    "#num comments per ask_posts per hr\n",
    "comments_by_hour = {}\n",
    "counts_by_hour = {}\n",
    "#specifing template for date\n",
    "date_format = \"%m/%d/%Y %H:%M\"\n",
    "\n",
    "for each_row in result_list:\n",
    "    date = each_row[0]\n",
    "    comment = each_row[1]\n",
    "    #extracting the hr from the date field\n",
    "    time = dt.datetime.strptime(date, date_format).strftime(\"%H\")\n",
    "    if time in counts_by_hour:\n",
    "        comments_by_hour[time] += comment\n",
    "        counts_by_hour[time] += 1\n",
    "    else:\n",
    "        comments_by_hour[time] = comment\n",
    "        counts_by_hour[time] = 1\n",
    "\n",
    "comments_by_hour"
   ]
  },
  {
   "cell_type": "code",
   "execution_count": 55,
   "metadata": {
    "collapsed": false
   },
   "outputs": [
    {
     "data": {
      "text/plain": [
       "[['23', 12.416666666666666],\n",
       " ['01', 8.785714285714286],\n",
       " ['20', 10.2],\n",
       " ['10', 8.25],\n",
       " ['09', 9.7],\n",
       " ['02', 4.233333333333333],\n",
       " ['12', 11.80327868852459],\n",
       " ['15', 8.102564102564102],\n",
       " ['11', 11.159090909090908],\n",
       " ['05', 3.0526315789473686],\n",
       " ['18', 15.770491803278688],\n",
       " ['04', 9.5],\n",
       " ['14', 13.44186046511628],\n",
       " ['00', 15.709677419354838],\n",
       " ['07', 11.5],\n",
       " ['19', 9.8],\n",
       " ['08', 4.852941176470588],\n",
       " ['03', 10.62962962962963],\n",
       " ['13', 9.555555555555555],\n",
       " ['16', 11.655913978494624],\n",
       " ['17', 9.795698924731182],\n",
       " ['21', 5.787234042553192],\n",
       " ['22', 12.391304347826088],\n",
       " ['06', 8.875]]"
      ]
     },
     "execution_count": 55,
     "metadata": {},
     "output_type": "execute_result"
    }
   ],
   "source": [
    "#create list of lists, avg_by_hour\n",
    "avg_by_hour = []\n",
    "for hr in comments_by_hour:\n",
    "    #setting hr to key in dict and value as avg num of comments per post\n",
    "    avg_by_hour.append([hr, comments_by_hour[hr]/\n",
    "                        counts_by_hour[hr]])\n",
    "avg_by_hour"
   ]
  },
  {
   "cell_type": "code",
   "execution_count": 56,
   "metadata": {
    "collapsed": false
   },
   "outputs": [
    {
     "data": {
      "text/plain": [
       "[[15.770491803278688, '18'],\n",
       " [15.709677419354838, '00'],\n",
       " [13.44186046511628, '14'],\n",
       " [12.416666666666666, '23'],\n",
       " [12.391304347826088, '22'],\n",
       " [11.80327868852459, '12'],\n",
       " [11.655913978494624, '16'],\n",
       " [11.5, '07'],\n",
       " [11.159090909090908, '11'],\n",
       " [10.62962962962963, '03'],\n",
       " [10.2, '20'],\n",
       " [9.8, '19'],\n",
       " [9.795698924731182, '17'],\n",
       " [9.7, '09'],\n",
       " [9.555555555555555, '13'],\n",
       " [9.5, '04'],\n",
       " [8.875, '06'],\n",
       " [8.785714285714286, '01'],\n",
       " [8.25, '10'],\n",
       " [8.102564102564102, '15'],\n",
       " [5.787234042553192, '21'],\n",
       " [4.852941176470588, '08'],\n",
       " [4.233333333333333, '02'],\n",
       " [3.0526315789473686, '05']]"
      ]
     },
     "execution_count": 56,
     "metadata": {},
     "output_type": "execute_result"
    }
   ],
   "source": [
    "swap_avg_by_hour = []\n",
    "\n",
    "for row in avg_by_hour:\n",
    "    swap_avg_by_hour.append([row[1], row[0]])\n",
    "swap_avg_by_hour\n",
    "\n",
    "sorted_swap = sorted(swap_avg_by_hour, reverse = True)\n",
    "\n",
    "sorted_swap"
   ]
  },
  {
   "cell_type": "markdown",
   "metadata": {},
   "source": [
    "# Top 5 Hours for Show Posts Comments"
   ]
  },
  {
   "cell_type": "code",
   "execution_count": 57,
   "metadata": {
    "collapsed": false
   },
   "outputs": [
    {
     "name": "stdout",
     "output_type": "stream",
     "text": [
      "Top 5 Hours for Show Posts Comments\n",
      "18:00: 15.77 average comments per post\n",
      "00:00: 15.71 average comments per post\n",
      "14:00: 13.44 average comments per post\n",
      "23:00: 12.42 average comments per post\n",
      "22:00: 12.39 average comments per post\n"
     ]
    }
   ],
   "source": [
    "print(\"Top 5 Hours for Show Posts Comments\")\n",
    "for avg, hr in sorted_swap[:5]:\n",
    "    print(\n",
    "        \"{}: {:.2f} average comments per post\".format(\n",
    "            dt.datetime.strptime(hr, \"%H\").strftime(\"%H:%M\"),avg\n",
    "        )\n",
    "    )\n"
   ]
  },
  {
   "cell_type": "markdown",
   "metadata": {},
   "source": [
    "For Show Posts there were no hours where there the avg number of comments fell below 3, indicating that regardless of when you post a show post it will receive about 3 comments. However, since the dataset was cleaned to encompass only posts that received comments what can be said is that of the shows posts with comments the hour where you'd receive the most comments would be 8 PM EST with about 16. "
   ]
  },
  {
   "cell_type": "code",
   "execution_count": null,
   "metadata": {
    "collapsed": true
   },
   "outputs": [],
   "source": []
  }
 ],
 "metadata": {
  "kernelspec": {
   "display_name": "Python 3",
   "language": "python",
   "name": "python3"
  },
  "language_info": {
   "codemirror_mode": {
    "name": "ipython",
    "version": 3
   },
   "file_extension": ".py",
   "mimetype": "text/x-python",
   "name": "python",
   "nbconvert_exporter": "python",
   "pygments_lexer": "ipython3",
   "version": "3.4.3"
  }
 },
 "nbformat": 4,
 "nbformat_minor": 2
}
